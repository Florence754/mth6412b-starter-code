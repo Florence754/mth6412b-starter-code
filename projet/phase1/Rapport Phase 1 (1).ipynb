{
 "cells": [
  {
   "cell_type": "markdown",
   "metadata": {},
   "source": [
    "# **Projet voyageur de commerce : Phase 1**"
   ]
  },
  {
   "cell_type": "markdown",
   "metadata": {},
   "source": [
    "## Objectif"
   ]
  },
  {
   "cell_type": "markdown",
   "metadata": {},
   "source": [
    "L'objectif de la phase 1 est de définir de bonnes structures de données pour résoudre le problème du voyageur de commerce dans le cas symétrique, à partir de fichiers *tsp*."
   ]
  },
  {
   "cell_type": "markdown",
   "metadata": {},
   "source": [
    "## Étapes de la démarches"
   ]
  },
  {
   "cell_type": "markdown",
   "metadata": {},
   "source": [
    "### Définition des types"
   ]
  },
  {
   "cell_type": "markdown",
   "metadata": {},
   "source": [
    "#### Type Node"
   ]
  },
  {
   "cell_type": "markdown",
   "metadata": {},
   "source": [
    "Le premier type à définir est le type **Node**, qui a déjà été donné, et qui représentera les sommets d'un graphe.\n",
    "Celui-ci possède deux attributs: son nom (*name*) et sa valeur (*data*), qui peut être de n'importe quel type (généralement ses coordonnées)."
   ]
  },
  {
   "cell_type": "markdown",
   "metadata": {},
   "source": [
    "Ce type possède 3 méthodes : **name(** *node* **)** qui renvoie le nom du noeud ; **data(** *node* **)** qui renvoie sa valeur; et **show(** *node* **)** qui affiche le nom et la valeur du noeud."
   ]
  },
  {
   "cell_type": "markdown",
   "metadata": {},
   "source": [
    "*Exemple:*\n",
    "```julia\n",
    "       noeud1 = Node(\"James\", [π, exp(1)])\n",
    "       noeud2 = Node(\"Kirk\", \"guitar\")\n",
    "       noeud3 = Node(\"Lars\", [1.5,2.3])\n",
    "       noeud4 = Node(\"Tom\", 7)```"
   ]
  },
  {
   "cell_type": "raw",
   "metadata": {},
   "source": [
    "show(noeud1)"
   ]
  },
  {
   "cell_type": "markdown",
   "metadata": {},
   "source": [
    "Node James, data: [3.141592653589793, 2.718281828459045]"
   ]
  },
  {
   "cell_type": "markdown",
   "metadata": {},
   "source": [
    "#### Type Edge"
   ]
  },
  {
   "cell_type": "markdown",
   "metadata": {},
   "source": [
    "Le second type à définir est celui des arêtes (**Edge**), qui représente une lien entre deux objets de type **Node**. \n",
    "Nous avons choisi de créer trois attributs pour ce type : le nom de l'arête (*name*), la valeur (*data*), qui est un vecteur contenant deux objets de type **Node** (les deux noeuds reliés par l'arête), et le poids (*weight*) qui est un entier représentant le poids (ou coût) de l'arête.\n",
    "\n",
    "**Attention!** : les objets de type **Node** contenu dans l'attribut *data* doivent obligatoirement être de même type (par exemple Node{ Int } et Node{ Int } )"
   ]
  },
  {
   "cell_type": "markdown",
   "metadata": {},
   "source": [
    "*Extrait de code (Définition des attributs de Edge):*\n",
    "```Julia\n",
    "        mutable struct Edge{T} <: AbstractEdge{T}\n",
    "          name::String\n",
    "          data::Vector{Node{T}}\n",
    "          weight::Int\n",
    "        end```"
   ]
  },
  {
   "cell_type": "markdown",
   "metadata": {},
   "source": [
    "*Exemple:*\n",
    "```Julia\n",
    "        arete1 = Edge(\"arête 1-3\", [noeud1, noeud3], 24)\n",
    "        arete2 = Edge(\"Rue Saint Denis\", [Carrefour_124, Carrefour_56], 12)```        "
   ]
  },
  {
   "cell_type": "markdown",
   "metadata": {},
   "source": [
    "Nous avons également défini 4 méthodes pour ce type: les méthodes **name(** *edge* **)**, **data(** *edge* **)**, **weight(** *edge* **)** qui renvoie la valeur des attributs correspondants, ainsi que la méthode **show(** *edge* **)** qui affiche toutes les informations concernant une arête."
   ]
  },
  {
   "cell_type": "markdown",
   "metadata": {},
   "source": [
    "*Extrait de code (Définition des attributs de Edge):*\n",
    "```Julia\n",
    "\"\"\"Renvoie le nom de l'arête.\"\"\"\n",
    "name(edge::AbstractEdge) = edge.name\n",
    "\n",
    "\"\"\"Renvoie les sommets reliés par l'arête.\"\"\"\n",
    "data(edge::AbstractEdge) = edge.data\n",
    "\n",
    "\n",
    "\"\"\"Renvoie le poids de l'arête.\"\"\"\n",
    "weight(edge::AbstractEdge) = edge.weight\n",
    "\n",
    "\"\"\"Affiche une arête.\"\"\"\n",
    "function show(edge::AbstractEdge)\n",
    "  println(\"Edge: \", name(edge), \", data: \", data(edge)[1].name, \" et \",data(edge)[2].name , \", weigth: \", weight(edge))\n",
    "end```\n",
    "*Exemple:*"
   ]
  },
  {
   "cell_type": "raw",
   "metadata": {},
   "source": [
    "show(arête1)"
   ]
  },
  {
   "cell_type": "markdown",
   "metadata": {},
   "source": [
    "Edge: arête 1-3, data: James et Lars, weigth: 24"
   ]
  },
  {
   "cell_type": "markdown",
   "metadata": {},
   "source": [
    "#### Type Graph"
   ]
  },
  {
   "cell_type": "markdown",
   "metadata": {},
   "source": [
    "Le dernier type à définir est le type **Graph**, qui représente un graphe non orienté: un objet de type **Graph** contient la liste des noeuds et des arêtes contenus dans un graphe. Ses attributs sont donc le nom du graphe (*name*), la liste des noeuds du graphe (*nodes*), qui est un vecteur d'objets de même type **Node{T}**, et enfin *edges*, la liste des arêtes reliant ces noeuds (vecteur d'objets **Edge**, attribut que nous avons ajouté).\n",
    "\n",
    "**Attention!**: Les objets de type **Node** doivent tous être du même type (par exemple Node{ Int })."
   ]
  },
  {
   "cell_type": "markdown",
   "metadata": {},
   "source": [
    "*Extrait de code (définition des attributs de Graph):*\n",
    "```Julia\n",
    "mutable struct Graph{T} <: AbstractGraph{T}\n",
    "  name::String\n",
    "  nodes::Vector{Node{T}}\n",
    "  edges::Vector{Edge{T}}\n",
    "end```"
   ]
  },
  {
   "cell_type": "markdown",
   "metadata": {},
   "source": [
    "Le type **Graph** contient 8 méthodes :  **name(** *graph* **)**, **nodes(** *graph* **)**, et **edges(** *graph* **)** (que nous avons rajouté), qui renvoient la valeur des attributs correspondants; **add_node!(** *graph*, *node* **)** qui rajoute à un graphe un noeud ayant le même type de valeurs (Int par exemple) et **add_edge!(** *graph*, *edge* **)**, qui ajoute au graphe une arête possédant des noeuds du même type que ceux du graphe, **nb_nodes!(** *graph* **)** et **nb_edges!(** *graph* **)** qui renvoie respectivement le nombre de noeuds et le nombre d'arêtes du graphe (de type Int); et enfin **show(** *graph* **)** qui affiche toutes les informations du graphe.\n"
   ]
  },
  {
   "cell_type": "markdown",
   "metadata": {},
   "source": [
    "*Extraits de code (définition de certaines méthodes de Graph)*\n",
    "```Julia\n",
    "\"\"\"Ajoute une arête au graphe.\"\"\"\n",
    "function add_edge!(graph::Graph{T}, edge::Edge{T}) where T\n",
    "  push!(graph.edges, edge)\n",
    "  graph\n",
    "end\n",
    "\n",
    "\"\"\"Renvoie le nombre d'arêtes du graphe.\"\"\"\n",
    "nb_edges(graph::AbstractGraph) = length(graph.edges)\n",
    "\n",
    "\"\"\"Affiche un graphe\"\"\"\n",
    "function show(graph::Graph)\n",
    "  println(\"Graph \", name(graph), \" has \", nb_nodes(graph), \" nodes \")\n",
    "  for node in nodes(graph)\n",
    "    show(node)\n",
    "  end\n",
    "  println(\"Graph \", name(graph), \" has \", nb_edges(graph), \" edges \")\n",
    "  for edge in edges(graph)\n",
    "    show(edge)\n",
    "  end\n",
    "end```\n",
    "*Exemple:*\n",
    "```Julia\n",
    "G = Graph(\"Réseau\", [noeud1, noeud3], [arete1])```"
   ]
  },
  {
   "cell_type": "raw",
   "metadata": {},
   "source": [
    "show(G)"
   ]
  },
  {
   "cell_type": "markdown",
   "metadata": {},
   "source": [
    "Graph Réseau has 2 nodes\n",
    "\n",
    "Node James, data: [3.141592653589793, 2.718281828459045]\n",
    "\n",
    "Node Lars, data: [2.5, 5.3]\n",
    "\n",
    "Graph Réseau has 1 edges\n",
    "\n",
    "Edge: arête 1-3, data: James et Lars, weigth: 24"
   ]
  },
  {
   "cell_type": "markdown",
   "metadata": {},
   "source": [
    "### Lecture des fichiers *tsp*"
   ]
  },
  {
   "cell_type": "markdown",
   "metadata": {},
   "source": [
    "Un jeu de fonction est fourni pour lire les fichiers *tsp* et les rendre plus facilement exploitables.\n",
    "\n",
    "- La fonction **read_header( *filename* )** renvoie un dictionaire contenant les données de l'en-tête\n",
    "\n",
    "- La fonction **read_nodes( *header*,*filename* )** renvoie un dictionaire contenant les coordonnées des noeuds (lorsqu'elles existent), chaque noeud étant identifié par un numéro d'ID.\n",
    "\n",
    "- La fonction **read_edges( *header*,*filename* )** donnée renvoie la liste des arêtes du graphe (c'est-à-dire la liste des couples de noeuds reliés par une arête (les noeuds étant ici représentés par leurs ID). Cette fonctiondevra être modifiée pour renvoyer également le coût de chaque arête.\n",
    "\n",
    "- La fonction **read_stsp( *filename* )** qui renvoie la liste des noeuds et la liste des arêtes.\n",
    "\n",
    "- La fonction **plot_graph(*nodes, edges*)** qui, à partir du résultat de la **read_stsp(*filename*)** affiche une représentation graphique du graphe."
   ]
  },
  {
   "cell_type": "markdown",
   "metadata": {},
   "source": [
    "#### Modification de read_edges()"
   ]
  },
  {
   "cell_type": "markdown",
   "metadata": {},
   "source": [
    "Cette fonction ne prenant pas en compte le poids des arêtes, nous avons dû la modifier pour qu'elle renvoie également cette information."
   ]
  },
  {
   "cell_type": "markdown",
   "metadata": {},
   "source": [
    "   La variable **edges** est un vecteur de couples, ces couples correspondant aux ID des deux noeuds de chaque arête. Nous avons décidé de rajouté une troisième coordonnée à ces couples, qui représentera le poids de chaque arête. Ainsi, le tableau **edges** renvoyé par la fonction **read_edges()** contiendra un vecteur de triplet, chaque triplet correspondant à une arête et contenant les ID des deux sommets ainsi que le poids de l'arête. "
   ]
  },
  {
   "cell_type": "raw",
   "metadata": {},
   "source": [
    "read_edges(read_header(filename),filename)"
   ]
  },
  {
   "cell_type": "markdown",
   "metadata": {},
   "source": [
    "406-element Array{Any,1}:\n",
    " (1, 2, 97)\n",
    " (1, 3, 205)\n",
    " ⋮\n",
    " (28, 29, 162)"
   ]
  },
  {
   "cell_type": "markdown",
   "metadata": {},
   "source": [
    "Le remplissage de **edges** se fait au fur et à mesure que le programme parcourt le fichier: à chaque nouvelle ligne **line** du fichier (à partir du moment où la lecture du fichier a atteint la section de poids des arêtes (*EDGE_WEIGHT_SECTION*)), le contenu de la ligne est recopié, formatté (avec *split())* et transformé en un vecteur **data** contenant la liste des poids donnés dans cette ligne. Dans certains cas, seule une partie de la matrice symétrique est affichée dans le fichier *tsp*: la fonction auxiliaire **n_nodes_to_read(** *format, k, dim* **)** permet alors de connaître pour chaque ligne le nombre maximal de noeuds à lire, en fonction du format d'affichage des poids des arêtes. La variable **n_on_this_line**, minimum entre le nombre de noeuds dans **data** et le nombre de noeuds à lire, permet donc de savoir pour chaque ligne le nobre de colonnes à lire.\n",
    "\n",
    "Le programme parcourt alors le vecteur **data**, à l'aide de la variable incrémentale **j,** et remplit au fur et à mesure **edges** : avec l'ID des noeuds de départ et des noeuds d'arrivée (liés aux variables **k** et **i** représentant les numéro de ligne et colonne de la matrice), et le poids des arêtes, contenues dans **data**. La fonction **parse()** permet de convertir les poids des arêtes (de type *string* dans **data**) en entiers."
   ]
  },
  {
   "cell_type": "markdown",
   "metadata": {},
   "source": [
    "*Extrait de code (remplissage du vecteur edges)*\n",
    "```Julia\n",
    "        for j = start : start + n_on_this_line - 1\n",
    "            n_edges = n_edges + 1\n",
    "            if edge_weight_format in [\"UPPER_ROW\", \"LOWER_COL\"]\n",
    "              edge = (k+1, i+k+2, parse(Int, data[j+1]))\n",
    "            elseif edge_weight_format in [\"UPPER_DIAG_ROW\", \"LOWER_DIAG_COL\"]\n",
    "              edge = (k+1, i+k+1, parse(Int, data[j+1]))\n",
    "            elseif edge_weight_format in [\"UPPER_COL\", \"LOWER_ROW\"]\n",
    "              edge = (i+k+2, k+1, parse(Int, data[j+1]))\n",
    "            elseif edge_weight_format in [\"UPPER_DIAG_COL\", \"LOWER_DIAG_ROW\"]\n",
    "              edge = (i+1, k+1, parse(Int, data[j+1]))\n",
    "            elseif edge_weight_format == \"FULL_MATRIX\"\n",
    "              edge = (k+1, i+1, parse(Int, data[j+1]))\n",
    "            else\n",
    "              warn(\"Unknown format - function read_edges\")\n",
    "            end\n",
    "            push!(edges, edge)\n",
    "            i += 1\n",
    "        end```"
   ]
  },
  {
   "cell_type": "markdown",
   "metadata": {},
   "source": [
    "### Programme principal"
   ]
  },
  {
   "cell_type": "markdown",
   "metadata": {},
   "source": [
    "Le programme demandé doit pouvoir lire une instance de TSP symétrique dont les poids sont\n",
    "donnés au format EXPLICIT et construire un objet de type **Graph** correspondant.\n",
    "Nous avons donc créé un fichier **main.jl** qui fait appel aux fichiers **node.jl**, **edge.jl**, et **graph.jl** pour définir le type **Graph**, ainsi qu'au fichier **read_stsp** pour pouvoir exploiter facilement les données contenues dans un fichier *tsp*."
   ]
  },
  {
   "cell_type": "markdown",
   "metadata": {},
   "source": [
    "*Début du code **main.jl** *\n",
    "```Julia\n",
    "include(\"projet\\\\phase1\\\\node.jl\")\n",
    "include(\"projet\\\\phase1\\\\edge.jl\")\n",
    "include(\"projet\\\\phase1\\\\graph.jl\")\n",
    "include(\"projet\\\\phase1\\\\read_stsp.jl\")```"
   ]
  },
  {
   "cell_type": "markdown",
   "metadata": {},
   "source": [
    "Le nom du fichier doit ensuite être entré directement dans le code:"
   ]
  },
  {
   "cell_type": "markdown",
   "metadata": {},
   "source": [
    "```Julia\n",
    "filename = \"C:\\\\Users\\\\fltana\\\\github\\\\mth6412b-starter-code\\\\instances\\\\stsp\\\\bayg29.tsp\"```"
   ]
  },
  {
   "cell_type": "markdown",
   "metadata": {},
   "source": [
    "D'abord, la variable **header** permet d'enregistrer les données de l'en-tête, en utilisant la fonction **read_header()** de **read_stp.jl**.\n",
    "Ensuite, la variable **nom** récupère le nom du fichier *tsp* enregisté dans **header**, qui sera aussi le nom du graphe.\n",
    "Puis, la variable **graphe_edges** récupère la liste des triplets (noeud1, noeud2, poids) où noeud1 et noeud2 sont les noeuds reliés par une arête et où poids est le poids de cette arête. On utilise la fonction **read_edges()** telle qu'elle a été modifiée.\n",
    "La variable **graph_nodes**, quant à elle,  récupère le résultat de la fonction **read_nodes()**, qui est un dictionaire contenant les coordonnées de chaque point et dont les clés sont les ID des points."
   ]
  },
  {
   "cell_type": "markdown",
   "metadata": {},
   "source": [
    "```Julia\n",
    "header = read_header(filename)\n",
    "nom = header[\"NAME\"]\n",
    "graph_edges = read_edges(header,filename)\n",
    "graph_nodes = read_nodes(header,filename)```"
   ]
  },
  {
   "cell_type": "markdown",
   "metadata": {},
   "source": [
    "On initialise alors un objet **Graph**, que l'on nomme **nom**, dont l'attribut **nodes** est un vecteur de noeuds d'entiers, vide, et dont l'attribut **edges** est un vecteur d'arêtes de noeuds d'entiers, également vide."
   ]
  },
  {
   "cell_type": "markdown",
   "metadata": {},
   "source": [
    "```Julia\n",
    "G = Graph(nom, Node{Int64}[], Edge{Int64}[])```"
   ]
  },
  {
   "cell_type": "markdown",
   "metadata": {},
   "source": [
    "Puis on remplit progressivement le vecteur de noeuds de G, en parcourant toutes les clés du dictionnaire **graph_nodes** (qui correspondent à tous les noeuds du graphe). Le remplissage est assuré par la méthode **add_node!** du type **Graph**. \n",
    "\n",
    "**string( *i* )** convertit la clé i, correspondant à l'ID du noeud, en caractère, ce qui remplit l'attribut *nom* du **Node** en question, et l'instruction **graph_nodes[** *i* **]** récupère dans le dictionaire **graph_nodes** les coordonnées du noeud, ce qui permet de remplir l'attribut **data** du **Node**."
   ]
  },
  {
   "cell_type": "markdown",
   "metadata": {},
   "source": [
    "```julia\n",
    "for i in keys(graph_nodes)\n",
    "    add_node!(G, Node(string(i), graph_nodes[i]))\n",
    "end```"
   ]
  },
  {
   "cell_type": "markdown",
   "metadata": {},
   "source": [
    "On remplit ensuite le vecteur d'arêtes de G en parcourant chacun des triplets **e** de **graph_edges**.\n",
    "\n",
    "Le nom de chaque arête est construit en utilisant les numéros des deux noeuds qu'elle relie (*arête 3-4 par exemple pour l'arête reliant les noeuds 3 et4*).\n",
    "\n",
    "Chaque noeud du couple de noeuds de l'arête est entré de la façon suivante: \n",
    "- Une conversion en *string* de l'ID du noeud permet d'obtenir le nom du noeud\n",
    "- Pour obtenir les coordonnées du noeud en question, on réutilise le dictionaire **graph_edges**\n"
   ]
  },
  {
   "cell_type": "markdown",
   "metadata": {},
   "source": [
    "```Julia\n",
    "for e in graph_edges\n",
    "    add_edge!(G, Edge(string(e[1],\"-\",e[2]),[Node(string(e[1]), graph_nodes[e[1]]), Node(string(e[2]), graph_nodes[e[2]])], e[3]))\n",
    "end\n",
    "```"
   ]
  },
  {
   "cell_type": "markdown",
   "metadata": {},
   "source": [
    "L'objet **Graph** G alors obtenu permet de représenter de manière facilement exploitable le graphe représenté par le fichier *stp*, ce qui permettra par la suite de résoudre un problème de voyageur de commerce, dans le cas d'un graphe connexe non orienté."
   ]
  },
  {
   "cell_type": "markdown",
   "metadata": {},
   "source": [
    "*Exemple:*"
   ]
  },
  {
   "cell_type": "raw",
   "metadata": {},
   "source": [
    "show(G)"
   ]
  },
  {
   "cell_type": "raw",
   "metadata": {},
   "source": [
    "Graph bayg29 has 29 nodes.\n",
    "Node 18, data: [460.0, 860.0]\n",
    "Node 2, data: [630.0, 1660.0]\n",
    "Node 16, data: [1280.0, 1200.0]\n",
    "Node 11, data: [840.0, 550.0]\n",
    "Node 21, data: [830.0, 1770.0]\n",
    "Node 7, data: [1650.0, 650.0]\n",
    "Node 9, data: [790.0, 2260.0]\n",
    "Node 25, data: [1280.0, 790.0]\n",
    "Node 10, data: [710.0, 1310.0]\n",
    "Node 26, data: [490.0, 2130.0]\n",
    "Node 29, data: [360.0, 1980.0]\n",
    "Node 19, data: [1040.0, 950.0]\n",
    "Node 17, data: [230.0, 590.0]\n",
    "Node 8, data: [1490.0, 1630.0]\n",
    "Node 22, data: [490.0, 500.0]\n",
    "Node 6, data: [1030.0, 2070.0]\n",
    "Node 24, data: [1260.0, 1500.0]\n",
    "Node 4, data: [750.0, 1100.0]\n",
    "Node 3, data: [40.0, 2090.0]\n",
    "Node 28, data: [1260.0, 1910.0]\n",
    "Node 5, data: [750.0, 2030.0]\n",
    "Node 20, data: [590.0, 1390.0]\n",
    "Node 23, data: [1840.0, 1240.0]\n",
    "Node 13, data: [970.0, 1340.0]\n",
    "Node 14, data: [510.0, 700.0]\n",
    "Node 27, data: [1460.0, 1420.0]\n",
    "Node 15, data: [750.0, 900.0]\n",
    "Node 12, data: [1170.0, 2300.0]\n",
    "Node 1, data: [1150.0, 1760.0]\n",
    "\n",
    "Graph bayg29 has 406 edges\n",
    "Edge1-2, data: 1 et 2, weigth97\n",
    "Edge1-3, data: 1 et 3, weigth205\n",
    "Edge1-4, data: 1 et 4, weigth139\n",
    "Edge1-5, data: 1 et 5, weigth86\n",
    "Edge1-6, data: 1 et 6, weigth60\n",
    "Edge1-7, data: 1 et 7, weigth220\n",
    "Edge1-8, data: 1 et 8, weigth65\n",
    "Edge1-9, data: 1 et 9, weigth111\n",
    "Edge1-10, data: 1 et 10, weigth115\n",
    "Edge1-11, data: 1 et 11, weigth227\n",
    "Edge1-12, data: 1 et 12, weigth95\n",
    "Edge1-13, data: 1 et 13, weigth82\n",
    "Edge1-14, data: 1 et 14, weigth225\n",
    "Edge1-15, data: 1 et 15, weigth168\n",
    "Edge1-16, data: 1 et 16, weigth103\n",
    "Edge1-17, data: 1 et 17, weigth266\n",
    "Edge1-18, data: 1 et 18, weigth205\n",
    "Edge1-19, data: 1 et 19, weigth149\n",
    "Edge1-20, data: 1 et 20, weigth120\n",
    "Edge1-21, data: 1 et 21, weigth58\n",
    "Edge1-22, data: 1 et 22, weigth257\n",
    "Edge1-23, data: 1 et 23, weigth152\n",
    "Edge1-24, data: 1 et 24, weigth52\n",
    "Edge1-25, data: 1 et 25, weigth180\n",
    "Edge1-26, data: 1 et 26, weigth136\n",
    "Edge1-27, data: 1 et 27, weigth82\n",
    "Edge1-28, data: 1 et 28, weigth34\n",
    "Edge1-29, data: 1 et 29, weigth145\n",
    "Edge2-3, data: 2 et 3, weigth129\n",
    "Edge2-4, data: 2 et 4, weigth103\n",
    "Edge2-5, data: 2 et 5, weigth71\n",
    "Edge2-6, data: 2 et 6, weigth105\n",
    "Edge2-7, data: 2 et 7, weigth258\n",
    "Edge2-8, data: 2 et 8, weigth154\n",
    "Edge2-9, data: 2 et 9, weigth112\n",
    "Edge2-10, data: 2 et 10, weigth65\n",
    "Edge2-11, data: 2 et 11, weigth204\n",
    "Edge2-12, data: 2 et 12, weigth150\n",
    "...\n",
    "..."
   ]
  },
  {
   "cell_type": "code",
   "execution_count": null,
   "metadata": {},
   "outputs": [],
   "source": []
  }
 ],
 "metadata": {
  "kernelspec": {
   "display_name": "Julia 1.2.0",
   "language": "julia",
   "name": "julia-1.2"
  },
  "language_info": {
   "file_extension": ".jl",
   "mimetype": "application/julia",
   "name": "julia",
   "version": "1.2.0"
  }
 },
 "nbformat": 4,
 "nbformat_minor": 2
}
