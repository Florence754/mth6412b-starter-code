{
 "cells": [
  {
   "cell_type": "markdown",
   "metadata": {},
   "source": [
    "# MTH6412B: Projet voyageur de commerce (Phase 2)"
   ]
  },
  {
   "cell_type": "markdown",
   "metadata": {},
   "source": [
    "*Florence Tanoi Namio*: **M1913387**\n",
    "\n",
    "*Rémi Decouvelaere*: **M2035574**"
   ]
  },
  {
   "cell_type": "markdown",
   "metadata": {},
   "source": [
    "## Objectif"
   ]
  },
  {
   "cell_type": "markdown",
   "metadata": {},
   "source": [
    "L'objectif de la phase 2 est de pouvoir créer, à partir d'un graphe non orienté connexe existant, un arbre de recouvrement minimal."
   ]
  },
  {
   "cell_type": "markdown",
   "metadata": {},
   "source": [
    "### 1. Structure de données pour les composantes connexes"
   ]
  },
  {
   "cell_type": "markdown",
   "metadata": {},
   "source": [
    "Durant l'exécution de l'algorithme de Kruskal, on construira progressivement un arbre de recouvrement minimal, en partant d'un graphe sans arête, et en lui ajoutant une nouvelle arête à chaque étape de manière à minimiser le coût tout en veillant à ne pas construire de cycles.\n",
    "\n",
    "Ainsi, à chaque étape de l'algorithme, l'objet construit sera une forêt d'un ou plusieurs arbres. Il faudra alors pouvoir tester si deux noeuds de ce graphe appartienne au même ensemble connexe, c'est-à-dire au même arbre. \n",
    "\n",
    "Nous avons donc cherché à implémenter une structure de données qui pourrait représenter de manière efficace une forêt. Cette structure de données doit permettre d'identifier rapidement si deux noeuds sont dans le même ensemble connexe, et doit également permettre l'union de deux ensembles connexes différents."
   ]
  },
  {
   "cell_type": "markdown",
   "metadata": {},
   "source": [
    "#### Solution"
   ]
  },
  {
   "cell_type": "markdown",
   "metadata": {},
   "source": [
    "Nous avons décidé d'orienter les arbres de façon à créer des arborescences. Ainsi, chaque sommet d'une arborescence sera relié par un chemin unique à la racine de l'arborescence, choisie arbitrairement. De cette façon, chaque sommet du graphe possèdera un unique parent.\n",
    "\n",
    "On pourra alors représenter aisément une forêt par une **liste d'adjacence**, qui sera représenté par un dictionnaire, dans lequel on associera à chaque noeud du graphe son **unique** parent (*pour résoudre un bug, nous avons utilisé les noms des noeuds plutôt que les noeuds eux-même*). On ajoutera également la convention suivante afin d'identifier facilement les racines : la racine d'une arborescence est son propre parent.\n",
    "\n",
    "L'initialisation du dictionaire correspond à l'initialisation de l'algorithme de Kruskal: le graphe de construction (futur arbre de recouvrement) est alors composé uniquement des points du graphe principal G. Ainsi, chaque point est son propre parent."
   ]
  },
  {
   "cell_type": "markdown",
   "metadata": {},
   "source": [
    "```julia\n",
    "#Inialisation du dictionaire \"parents\", représentant les composantes connexes du graphe de construction\n",
    "parents=Dict(name(node) => name(node) for node in nodes(G))\n",
    "```"
   ]
  },
  {
   "cell_type": "markdown",
   "metadata": {},
   "source": [
    "#### Union de deux arborescences"
   ]
  },
  {
   "cell_type": "markdown",
   "metadata": {},
   "source": [
    "La fonction union!(edge,dict) permettra de relier deux arborescences de la forêt représentée par le dictionaire \"dict\" : il faudra veiller à ce que l'ensemble connexe obtenu soit bien une arborescence également.\n",
    "\n",
    "Le principe de l'algorithme utilisé est le suivant: si le noeud1 de l'arête appartient à l'arborescence 1 et que le noeud2 appartient à l'arborescence 2, on va d'abord ajouter à l'arborescence 1 l'arête reliant noeud1 et noeud2, en l'orientant de noeud2 vers noeud1; puis on va remonter progressivement l'arborescence 2 jusqu'à sa racine, en réorientant une à une les arêtes de l'arborescence 2 vers la racine de l'arborescence 1. \n",
    "En pratique, il suffira seulement de réorienter les arcs du seul chemin reliant noeud2 à la racine de l'arborescence 2, car tous les autres arcs de l'arborescence 2 seront dirigés vers un des sommets traversés par ce chemin, et donc, lorsque ce chemin sera réorienté, vers la racine de l'arborescence 1."
   ]
  },
  {
   "cell_type": "markdown",
   "metadata": {},
   "source": [
    "```Julia\n",
    "\"\"\"Fonction réalisant l'union de deux arborescences, par l'arête edge, et dans la forêt représentée par le dictionaire dict\"\"\"\n",
    "function union!(edge::Edge{T},dict::Dict{String,String})\n",
    "    #On récupère dans node1 et node2 les noms des deux noeuds contenus dans l'arête edge\n",
    "    node1=name(data(edge)[1])\n",
    "    node2=name(data(edge)[2])\n",
    "    #p1 et p2 permettent de garder en mémoire l'arc reliant node2 et son parent\n",
    "    p1=node2\n",
    "    p2=dict[node2]\n",
    "    dict[node2]=node1 #On remplace le parent de node2 par node1, c'est-à-dire qu'on supprime l'arc allant de p1 vers p2 et on le remplace vers un arc allant de p1 vers node1\n",
    "    while p1!=p2 #Tant que le parent de p1 est différent de lui même (c'est-à-dire tant que l'on n'a pas atteint la racine de la deuxième arborescence)\n",
    "        p3=dict[p2] #avant d'appliquer des changements au dictionaire, on mémorise le parent de p2\n",
    "        dict[p2]=p1 #on peut alors appliquer les changements au dictionaire: l'arc reliant p1 et p2 change de sens, et l'arc reliant p2 et son ancient parent p3 disparait\n",
    "        #on s'intéresse maintenant à l'arc que l'on vient d'effacer\n",
    "        p1=p2\n",
    "        p2=p3\n",
    "    end\n",
    "        #A la dernière itération, on aura effacé l'arc reliant l'ancienne racine de l'arborescence 2 à elle-même\n",
    "end\n",
    "```"
   ]
  },
  {
   "cell_type": "markdown",
   "metadata": {},
   "source": [
    "#### Identification de la racine d'un noeud"
   ]
  },
  {
   "cell_type": "markdown",
   "metadata": {},
   "source": [
    "La fonction root(node,dict) suivante permet de retracer dans une forêt d'arborescences (représentée par un dictionaire) la racine d'un noeud. Cette fonction permettra de savoir si deux noeuds sont dans le même ensemble connexe, car ils possèderont alors la même racine. Le principe de cette fonction et de remonter les ancêtres du noeud jusqu'à ce que l'un d'entre eux soit son propre parent : celui-là sera la racine."
   ]
  },
  {
   "cell_type": "markdown",
   "metadata": {},
   "source": [
    "```Julia\n",
    "\"\"\"Fonction renvoyant la racine d'un noeud node dans une forêt d'arborescence représenté par un dictionaire dict\"\"\"\n",
    "function root(node::Node{T},dict::Dict{String,String})\n",
    "    p=name(node)\n",
    "    #Tant que le parent du noeud p est différent de lui-même, on remplace ce noeud par son parent\n",
    "    while p!=dict[p]\n",
    "        p=dict[p]\n",
    "    end\n",
    "    return(p)\n",
    "    end```"
   ]
  },
  {
   "cell_type": "markdown",
   "metadata": {},
   "source": [
    "#### Test de connexité entre deux noeuds"
   ]
  },
  {
   "cell_type": "markdown",
   "metadata": {},
   "source": [
    "La fonction connex(edge,dict) permettra de réaliser le test de connexité entre deux noeuds dans l'algorithme de Kruskal. Grâce à la structure de données implémentée pour représenter une forêt, il est assez simple de savoir si deux noeuds sont dans le même ensemble connexe: en effet, chaque arborescence de la forêt possède une unique racine. Il suffit donc de comparer les racines de deux noeuds pour savoir s'ils appartiennent à la même arborescence."
   ]
  },
  {
   "cell_type": "markdown",
   "metadata": {},
   "source": [
    "```Julia\n",
    "\"\"\"Fonction renvoyant un booléen true si les deux noeuds de l'arête edge sont dans le même ensemble connexe et false autrement\"\"\"\n",
    "function connex(edge::Edge{T},dict::Dict{String,String}) where T\n",
    "    #On récupère dans node1 et node2 les deux noeuds contenus dans l'arête edge\n",
    "    node1=data(edge)[1]\n",
    "    node2=data(edge)[2]\n",
    "    #Si ces deux noeuds ont la même racine, ils sont dans le même ensemble connexe, sinon non\n",
    "    return(root(node1,dict)==root(node2,dict))\n",
    "    end```"
   ]
  },
  {
   "cell_type": "markdown",
   "metadata": {},
   "source": [
    "### 2. Implémentation de l'algorithme de Kruskal"
   ]
  },
  {
   "cell_type": "markdown",
   "metadata": {},
   "source": [
    "Voici comment nous avons implémenté l'algorithme de Kruskal:\n",
    "- Le graphe *G_construction* représente le futur arbre de recouvrement, à chaque étape de sa construction\n",
    "- Le dictionaire *parents* représente la forêt d'arborescences construite dans *G_construction* afin d'identifier facilement ses composantes connexes\n",
    "- Le vecteur d'arêtes E contient la liste d'arêtes de G, triées par coût croissant\n",
    "\n",
    "La première étape de l'algorithme de Kruskal consiste à trier les arêtes:\n",
    "```Julia\n",
    "E = edges(G)\n",
    "sort!(E, by = x -> weight(x))```"
   ]
  },
  {
   "cell_type": "markdown",
   "metadata": {},
   "source": [
    "On itialise aussi le graphe de construction *G_construction* ainsi que la forêt d'arborescences qui lui est associée *parents*:\n",
    "```Julia\n",
    "parents=Dict(name(node) => name(node) for node in nodes(G))\n",
    "#Graphe contenant les noeuds de G, initialement sans arêtes\n",
    "G_construction=Graph(\"Arbre\"), nodes(G), Edge{Vector{Float64}}[])[])```"
   ]
  },
  {
   "cell_type": "markdown",
   "metadata": {},
   "source": [
    "L'étape suivante de l'algorithme est celle-ci: pour chaque arête, de la plus légère à la plus lourde:\n",
    "- Vérifier si ses deux sommets sont dans le même ensemble connexe, dans *G_construction* (ce qui est réalisé avec la fonction **connex()**)\n",
    "- Si ce n'est pas le cas, ajouter cette arête au graphe de construction *G_construction* et à la forêt d'arborescences associée *parents* (ce qui est réalisé avec la fonction **union()**)"
   ]
  },
  {
   "cell_type": "markdown",
   "metadata": {},
   "source": [
    "```Julia\n",
    "\"\"\"Fonction renvoyant un arbre de recouvrement de coût minimal associé au graphe G, en utilisant l'algorithme de Kruskal\"\"\"\n",
    "function kruskal(G::Graph)\n",
    "     E = edges(G)\n",
    "     sort!(E, by = x -> weight(x)) #Tri des arêtes par poids\n",
    "     parents=Dict(name(node) => name(node) for node in nodes(G))\n",
    "     G_construction=Graph(\"Arbre\", nodes(G), Edge{Vector{Float64}}[]) #Graphe contenant les noeuds de G, initialement sans arêtes\n",
    "     for e in E\n",
    "        if connex(e,parents)==false #Si les deux noeuds de l'arête e ne sont pas dans le même ensemble connexe\n",
    "            add_edge!(G_construction,e) #On ajoute cette arête au graphe de construction\n",
    "            union!(e,parents) #On ajoute cette arête à la forêt d'arborescence\n",
    "        end\n",
    "    end\n",
    "    return G_construction #Le graphe de construction obtenu est un arbre de recouvrement de G\n",
    "end```"
   ]
  },
  {
   "cell_type": "markdown",
   "metadata": {},
   "source": [
    "### 3. Tests unitaires"
   ]
  },
  {
   "cell_type": "markdown",
   "metadata": {},
   "source": [
    "Nous avons progressivement rédigé un fichier de tests unitaires, en utilisant un graphe assez simple, afin de pouvoir tester le fonctionnement de chacune des fonctions implémentées."
   ]
  },
  {
   "cell_type": "markdown",
   "metadata": {},
   "source": [
    "```Julia\n",
    "using Test\n",
    "#Initialisation du graphe test G\n",
    "node1 = Node(\"1\", [-1.0,0.0])\n",
    "node2 = Node(\"2\", [0.0,1.0])\n",
    "node3 = Node(\"3\", [1.0,0.0])\n",
    "node4 = Node(\"4\", [0.0,-1.0])\n",
    "arete1 = Edge((node1, node2), 1)\n",
    "arete2 = Edge((node2, node4), 2)\n",
    "arete3 = Edge((node2, node3), 3)\n",
    "arete4 = Edge((node1, node4), 4)\n",
    "arete5 = Edge((node3, node4), 5)\n",
    "G = Graph(\"Test graph\", [node1, node2, node3, node4], [arete1, arete2, arete3, arete4, arete5])\n",
    "\n",
    "parents=Dict(name(node) => name(node) for node in nodes(G)) #Création d'une forêt d'arborescences avec les noeuds de G, et dont chaque noeud est son propre parent\n",
    "\n",
    "for node in nodes(G) #Vérification du contenu de parents\n",
    "    @test parents[name(node)] == name(node)\n",
    "end\n",
    "\n",
    "for edge in edges(G) #On vérifie qu'aucun couple de sommets n'est dans le même ensemble connexe, dans parents\n",
    "    @test connex(edge,parents) == false\n",
    "end\n",
    "\n",
    "union!(arete1,parents) #On ajoute l'arête 1 à parents\n",
    "@test parents[name(node2)]==name(node1) #On vérifie que le parent de node2 est bien devenu node1\n",
    "@test parents[name(node1)]==name(node1)\n",
    "@test connex(arete1,parents) == true #on vérifie le fonctionnement de la fonction connex\n",
    "@test connex(arete2,parents) == false\n",
    "@test connex(arete3,parents) == false\n",
    "@test connex(arete4,parents) == false\n",
    "@test connex(arete5,parents) == false\n",
    "\n",
    "union!(arete2,parents)\n",
    "@test parents[name(node4)]==name(node2)\n",
    "@test parents[name(node2)]==name(node1)\n",
    "@test parents[name(node1)]==name(node1)\n",
    "@test connex(arete1,parents) == true\n",
    "@test connex(arete2,parents) == true\n",
    "@test connex(arete3,parents) == false\n",
    "@test connex(arete4,parents) == true\n",
    "@test connex(arete5,parents) == false\n",
    "\n",
    "#Vérification des racines de chaque noeud, dans le nouveau \"parents\"\n",
    "@test root(node4,parents)==name(node1)\n",
    "@test root(node2,parents)==name(node1)\n",
    "@test root(node1,parents)==name(node1)\n",
    "@test root(node3,parents)==name(node3)\n",
    "\n",
    "union!(arete3,parents) #Ajout de la dernière arête possible\n",
    "\n",
    "#Vérification des racines de chaque noeud, dans le nouveau \"parents\"\n",
    "@test root(node4,parents)==name(node1)\n",
    "@test root(node2,parents)==name(node1)\n",
    "@test root(node1,parents)==name(node1)\n",
    "@test root(node3,parents)==name(node1)\n",
    "\n",
    "for edge in edges(G) #On vérifie que tous les couples de sommets sont dans le même ensemble connexe\n",
    "    @test connex(edge,parents) == true\n",
    "end\n",
    "\n",
    "\n",
    "#Vérification du fonctionnement de la fonction Kruskal\n",
    "K=kruskal(G)\n",
    "typeof(K)==typeof(G)\n",
    "\n",
    "total_weight = sum([weight(e) for e in edges(K)])\n",
    "\n",
    "for e in edges(K)\n",
    "@test connex(e,parents)==true #On vérifie que l'ensemble obtenu est connexe\n",
    "\n",
    "end\n",
    "\n",
    "@test total_weight==6 #On vérifie que l'arbre obtenu est bien de coût minimal\n",
    "\n",
    "#On vérifie que K ne contient pas de cycles\n",
    "@test !(arete4 in edges(K))\n",
    "@test !(arete5 in edges(K))\n",
    "\n",
    "```"
   ]
  },
  {
   "cell_type": "markdown",
   "metadata": {},
   "source": [
    "### 4. Application"
   ]
  },
  {
   "cell_type": "markdown",
   "metadata": {},
   "source": [
    "#### Code principal"
   ]
  },
  {
   "cell_type": "markdown",
   "metadata": {},
   "source": [
    "Pour une utilisation facile de la fonction Kruskal, nous avons créé un programme principal qui permet d'obtenir, à partir du nom d'un fichier *tsp*, un arbre de recouvrement (objet de type **Graph**) associé au graphe correspondant."
   ]
  },
  {
   "cell_type": "markdown",
   "metadata": {},
   "source": [
    "La première partie du programme **main.jl** reprend le programme principal **main.jl** de la phase 1, c'est-à-dire qu'il crée un objet de type **Graph** à partir du nom d'un fichier *tsp*.\n",
    "\n",
    "La deuxième partie du programme consiste simplement à appliquer la fonction **kruskal()** à ce graphe, afin de créer un arbre de recouvrement.\n",
    "\n",
    "Enfin, nous avons rajouté une dernière partie qui consiste à afficher l'arbre de recouvrement obtenu, en réutilisant les fonctions de la phase 1.\n",
    "\n",
    "```Julia\n",
    "arbre=kruskal(G)\n",
    "show(arbre)\n",
    "tree_weight = sum([weight(e) for e in edges(arbre)])\n",
    "println(\"Le poids de l'arbre de recouvrement est de \",tree_weight)\n",
    "```"
   ]
  },
  {
   "cell_type": "markdown",
   "metadata": {},
   "source": [
    "#### Test sur diverses instances de TSP symétriques"
   ]
  },
  {
   "cell_type": "markdown",
   "metadata": {},
   "source": [
    "Nous avons testé notre code **main.jl** sur plusieurs instances de *tsp*, et le résultat obtenu semble toujours correct. Cependant, le temps d'exécution est parfois long (une dizaine de secondes)."
   ]
  },
  {
   "cell_type": "raw",
   "metadata": {},
   "source": [
    "Graph Arbre has 29 nodes\n",
    "Node 18, data: [460.0, 860.0]\n",
    "Node 2, data: [630.0, 1660.0]\n",
    "Node 16, data: [1280.0, 1200.0]\n",
    "Node 11, data: [840.0, 550.0]\n",
    "Node 21, data: [830.0, 1770.0]\n",
    "Node 7, data: [1650.0, 650.0]\n",
    "Node 9, data: [790.0, 2260.0]\n",
    "Node 25, data: [1280.0, 790.0]\n",
    "Node 10, data: [710.0, 1310.0]\n",
    "Node 26, data: [490.0, 2130.0]\n",
    "Node 29, data: [360.0, 1980.0]\n",
    "Node 19, data: [1040.0, 950.0]\n",
    "Node 17, data: [230.0, 590.0]\n",
    "Node 8, data: [1490.0, 1630.0]\n",
    "Node 22, data: [490.0, 500.0]\n",
    "Node 6, data: [1030.0, 2070.0]\n",
    "Node 24, data: [1260.0, 1500.0]\n",
    "Node 4, data: [750.0, 1100.0]\n",
    "Node 3, data: [40.0, 2090.0]\n",
    "Node 28, data: [1260.0, 1910.0]\n",
    "Node 5, data: [750.0, 2030.0]\n",
    "Node 20, data: [590.0, 1390.0]\n",
    "Node 23, data: [1840.0, 1240.0]\n",
    "Node 13, data: [970.0, 1340.0]\n",
    "Node 14, data: [510.0, 700.0]\n",
    "Node 27, data: [1460.0, 1420.0]\n",
    "Node 15, data: [750.0, 900.0]\n",
    "Node 12, data: [1170.0, 2300.0]\n",
    "Node 1, data: [1150.0, 1760.0]\n",
    "Graph Arbre has 28 edges\n",
    "data : 10 et 20, weight : 25\n",
    "data : 14 et 18, weight : 32\n",
    "data : 1 et 28, weight : 34\n",
    "data : 4 et 15, weight : 34\n",
    "data : 14 et 22, weight : 36\n",
    "data : 26 et 29, weight : 36\n",
    "data : 24 et 27, weight : 38\n",
    "data : 4 et 10, weight : 39\n",
    "data : 8 et 27, weight : 39\n",
    "data : 2 et 21, weight : 41\n",
    "data : 5 et 9, weight : 42\n",
    "data : 6 et 12, weight : 46\n",
    "data : 17 et 22, weight : 47\n",
    "data : 16 et 27, weight : 48\n",
    "data : 2 et 20, weight : 49\n",
    "data : 15 et 19, weight : 49\n",
    "data : 5 et 21, weight : 50\n",
    "data : 5 et 6, weight : 51\n",
    "data : 5 et 26, weight : 51\n",
    "data : 10 et 13, weight : 51\n",
    "data : 1 et 24, weight : 52\n",
    "data : 6 et 28, weight : 52\n",
    "data : 19 et 25, weight : 52\n",
    "data : 15 et 18, weight : 56\n",
    "data : 3 et 29, weight : 60\n",
    "data : 11 et 22, weight : 63\n",
    "data : 7 et 25, weight : 72\n",
    "data : 23 et 27, weight : 74\n",
    "Le poids de l'arbre de recouvrement est de 1319"
   ]
  }
 ],
 "metadata": {
  "kernelspec": {
   "display_name": "Julia 1.1.0",
   "language": "julia",
   "name": "julia-1.1"
  },
  "language_info": {
   "file_extension": ".jl",
   "mimetype": "application/julia",
   "name": "julia",
   "version": "1.1.0"
  }
 },
 "nbformat": 4,
 "nbformat_minor": 2
}
